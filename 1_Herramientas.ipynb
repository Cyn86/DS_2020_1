{
 "cells": [
  {
   "cell_type": "markdown",
   "metadata": {},
   "source": [
    "# Introducción\n",
    "# Temario\n",
    "\n",
    " + Introducción a la programación orientada a objetos en Python. (No se profundizará en el lenguaje Python)\n",
    " \n",
    " + Introducción a ciencia de datos (Herramientas: Python, Anaconda, Jupyter-Lab, Git, Slack).\n",
    " \n",
    " + Análisis de datos en Python, aprenderás las herramientas más usadas para adentrarte en la ciencia de los datos, utilizando librerías como: pandas, numpy y scipy.\n",
    " \n",
    " + Visualización de datos utilizando las libreras matplotlib, seaborns y generando gráficos interactivos con plotly.\n",
    " \n",
    " + Introducción a la inteligencia artificial y Machine Learning.\n",
    " \n",
    " + Algoritmos de Machine Learning como:\n",
    "    - Regresión lineal\n",
    "    - Regresión Logística\n",
    "    - Árboles de Decisión\n",
    "    - K-means\n",
    "    - Random Forest (GBM)\n",
    "    - Redes Neuronales\n",
    " \n",
    " \n",
    " + Aplicación de Machine Learning con aprendizaje supervisado (Regresiones y Clasificaciones) y No supervisado (*Clustering*) con la librería de scikit-learn.\n",
    " \n",
    " + Proyecto de Kaggle (libre) "
   ]
  },
  {
   "cell_type": "markdown",
   "metadata": {},
   "source": [
    "# Git\n",
    "\n",
    "Git es un software de control de versiones.\n",
    "\n",
    "\n",
    "Te permite controlar las versiones del software a la hora de programar, ya sea como hacker solitario o en equipo. 😃\n",
    "\n",
    "\n",
    "Para evitar el famoso código bueno_version_final_ahora_si_finalisimo.py, obteniendo un registro de los cambios en el código."
   ]
  },
  {
   "cell_type": "markdown",
   "metadata": {},
   "source": [
    "## Primeros pasos\n",
    "\n",
    "* Para empezar, crea una cuenta en [GITHUB](http://www.github.com) e instala Git en tu ordenador. siguiendo el siguiente enlace [descargar git windows](https://git-scm.com/downloads)\n",
    "\n",
    "    ** En el caso que sea __MAC__, abren una terminal y teclean el siguiente comando: ```git --version```, posteriormente le dan en instalar a la ventana emergente y le dan todo por default.\n",
    "    \n",
    "    ** En el caso que sea __Linux__, abren una terminal y teclean el sigiente comando: ```sudo apt-get install git```.\n",
    "\n",
    "* Envía tu nombre de usuario al correo o al chat de Slack para darte de alta.\n",
    "\n",
    "* Una vez instalado, abre una consola de Git (Git CMD) y ejecuta el siguiente código:"
   ]
  },
  {
   "cell_type": "raw",
   "metadata": {},
   "source": [
    "git clone https://github.com/serch86/DS_2019-2"
   ]
  },
  {
   "cell_type": "markdown",
   "metadata": {},
   "source": [
    "Esto generará una carpeta nueva, normalmente se clona en el siguiente directorio:\n",
    "\n",
    "*'C://Users/usuario/DS'*\n",
    "\n",
    "En dicha carpeta encontrarás el material del curso."
   ]
  },
  {
   "cell_type": "markdown",
   "metadata": {},
   "source": [
    "Favor de generar una copia en su Escritorio de la carpeta original y trabajar sus modificaciónes EN LA COPIA, ya que, dado que Git es un controlador de versiones, si modifican los archivos de la carpeta clonada puede que no puedan obtener futuras actualizaciónes o incluso borren las notas que tomen durante el curso.\n",
    "\n",
    "Para mayor información pueden consultar los siguiente links:\n",
    "\n",
    "* [Tutorial_GIT](http://rogerdudler.github.io/git-guide/index.es.html)\n",
    "* [Libro_GIT](https://git-scm.com/book/es/v2)\n",
    "* [Comando_Basicos](http://dont-be-afraid-to-commit.readthedocs.io/en/latest/git/commandlinegit.html)\n",
    "\n",
    "Para obtener actualizaciónes del repositorio abren una terminal de Git y ejecutan el siguiente codigo:"
   ]
  },
  {
   "cell_type": "raw",
   "metadata": {},
   "source": [
    "git pull"
   ]
  },
  {
   "cell_type": "markdown",
   "metadata": {},
   "source": [
    "## SLACK\n",
    "\n",
    "Es un servicio mensajería instantánea con diversas herramientas integradas (Dropbox,Google Drive, etc.) enfocado a las empresas, pero que se puede utilizar para fines diversos.\n",
    "\n",
    "Para mantener la comunicación en el grupo les pediré que descarguen SLACK:\n",
    "[DESCARGAR](https://slack.com/intl/es/downloads/) y que se inscriban al grupo:\n",
    "\n",
    "__dsciencias-2018.slack.com__\n",
    "\n",
    "Una vez que tengan la herramienta integrada a su celular y/o computadora, entran al grupo, le dan en canales y se unen. Ahí encontrarán material de apoyo para los diversos temas que veremos aquí.\n",
    "\n",
    "Para más información pueden revisar el siguiente link:\n",
    "[SLACK](http://www.naiarafernandez.com/tutorial-slack-que-es-para-que-sirve-y-como-funciona/)"
   ]
  },
  {
   "cell_type": "markdown",
   "metadata": {},
   "source": [
    "## Jupyter... ¿y por qué?\n",
    "\n",
    "Es una aplicación web la cual te permite crear y compartir documentos con codigo fuente (python, java, Latex, n_mil lenguajes más, aproximadamente 40 ó más), ecuaciónes, visualizaciónes y texto.\n",
    "\n",
    "Se ha puesto de moda en las áreas de negocio y ciencia dada su versatilidad para compartir codigo y/o metodologías.\n",
    "\n",
    "En el notebook puedes escribir diversos formatos como\n",
    "\n",
    "__Código:__\n",
    "\n",
    "~~~ \n",
    "import pandas as pd\n",
    "pd.read_csv('docu.csv')\n",
    "~~~\n",
    "\n",
    "__Imágenes:__\n",
    "\n",
    "<img src=\"Imagenes/pqo.jpg\">\n",
    "\n",
    "__Ecuaciónes:__\n",
    "\n",
    "$ x_1 = 10x_2 + f(y) -  \\frac{d^2 u}{dx^2} \\times \\int_{x_1}^{x_2} x^3 $\n",
    "\n",
    "__Emoticones:__\n",
    "\n",
    "🦄🦄🦄\n",
    "\n",
    "Para más tips de guapura de markdowns entra al siguiente link: [Markdown](https://markdown.es/sintaxis-markdown/)\n",
    "\n"
   ]
  },
  {
   "cell_type": "code",
   "execution_count": 1,
   "metadata": {
    "ExecuteTime": {
     "end_time": "2018-01-13T14:21:32.583000Z",
     "start_time": "2018-01-13T14:21:29.670000Z"
    },
    "collapsed": true
   },
   "outputs": [],
   "source": [
    "import numpy as np\n",
    "import matplotlib.pyplot as plt\n",
    "\n",
    "%matplotlib inline"
   ]
  },
  {
   "cell_type": "code",
   "execution_count": 2,
   "metadata": {
    "ExecuteTime": {
     "end_time": "2018-01-13T15:09:39.690000Z",
     "start_time": "2018-01-13T15:09:39.540000Z"
    }
   },
   "outputs": [
    {
     "data": {
      "text/plain": [
       "[<matplotlib.lines.Line2D at 0x7f0fcca9ec50>]"
      ]
     },
     "execution_count": 2,
     "metadata": {},
     "output_type": "execute_result"
    },
    {
     "data": {
      "image/png": "[encoded data removed]",
      "text/plain": [
       "<Figure size 432x288 with 1 Axes>"
      ]
     },
     "metadata": {
      "needs_background": "light"
     },
     "output_type": "display_data"
    }
   ],
   "source": [
    "#Primera gráfica\n",
    "plt.plot(np.arange(50),np.random.rand(50))"
   ]
  },
  {
   "cell_type": "markdown",
   "metadata": {},
   "source": [
    "## Instalación\n",
    "\n",
    "Dado que Jupyter es un IDE (*Integrated Development Environment*) *Ambiente de desarrollo integrado* primero es necesario tener los lenguajes para utilizar el Notebook interactivo. En él, se documenta todo el desarrollo de código."
   ]
  },
  {
   "cell_type": "markdown",
   "metadata": {},
   "source": [
    "1. Descargar __anaconda__ e instalar. Según sea tu versión de computadora, puedes instalar la version de 32-bits o de 64-bits, con su respectiva versión de Python que instalaron previamente [Descarga Anaconda](https://www.anaconda.com/download/)\n",
    "\n",
    "_Pueden revisar la version de su computadora de la siguiente manera:\n",
    "si es windows 10 sólo tecleando inicio y escribiendo acerca de o en panel de control sistema_\n",
    "\n",
    "__TACHAR EN AGREGAR AL PATH__\n",
    "\n",
    "<img src=\"Imagenes/anaconda.JPG\">\n",
    "\n",
    "1. 1. __MAC__, solo es necesario descargar el ejecutable de [Anaconda](https://www.anaconda.com/download/) e instalar todo por deafual.\n",
    "\n",
    "1. 2. __Linux__, descargan el ejecutable de [Anaconda](https://www.anaconda.com/download/) para linux, abren una terminal y se van a donde hicieron las descargas con el comando cd (comunmente es en: /home/USER/DOwnloads/), cambian los permisos del ejecutable con: ```chmod +x Anaconda3_X.X.X``` y por ultimo ejecutan el comando: ```./Anaconda3_X.X.X```"
   ]
  },
  {
   "cell_type": "markdown",
   "metadata": {},
   "source": [
    "En algunos casos es necesario instalar Python antes y luego Anaconda, pero normalmente ya te incluye la distribución de Python necesaria para ejecutar Anaconda.\n",
    "\n",
    "Instalar primero alguna versión de Python. Se recomienda Python 3.7+ [Descarga Python](https://www.python.org/downloads/)\n",
    "\n",
    "__TACHAR EN AGREGAR AL PATH__\n",
    "<img src=\"Imagenes/python.JPG\" />"
   ]
  },
  {
   "cell_type": "markdown",
   "metadata": {},
   "source": [
    "### Sí, sí...mucha instalación y todo pero, ¿por qué Python y Anaconda?\n",
    "\n",
    "__Python__ ha venido agarrando popularidad en el area de ciencia de datos y manejo de datos científicos, por su facilidad para aprender y sintaxis.\n",
    "\n",
    "__Anaconda__ es una distribución de librerías enfocadas en ciencia de datos y machine learning.\n",
    "\n",
    "Entonces, básicamente Python nos permite programar y aprender relativamente rapido y Anaconda nos instala todas las librerías necesarias  para la realización de proyectos."
   ]
  },
  {
   "cell_type": "markdown",
   "metadata": {},
   "source": [
    "+ Una ves instalado abrimos un cmd (simbolo de sistemas) y tecleamos el siguiente codigo:"
   ]
  },
  {
   "cell_type": "raw",
   "metadata": {},
   "source": [
    "jupyter-lab"
   ]
  },
  {
   "cell_type": "markdown",
   "metadata": {},
   "source": [
    "Este nos abrira en automatico una pestaña de nuestro explorador preferido y mostrara una especie de explorador de archivos.\n",
    "\n",
    "\n",
    "__ACTIVIDAD__\n",
    "\n",
    "* Entonces se les pide crear un notebook de python y escribir su famosísísísímo saludo a si mismos para asegurarnos que todos los componentes se instalaron adecuadamente."
   ]
  },
  {
   "cell_type": "markdown",
   "metadata": {},
   "source": [
    "# Opcional Recomendado\n",
    "Instalar las siguientes extensiones para jupyter:\n",
    "[nbextensions](https://github.com/ipython-contrib/jupyter_contrib_nbextensions)"
   ]
  },
  {
   "cell_type": "code",
   "execution_count": null,
   "metadata": {},
   "outputs": [],
   "source": []
  }
 ],
 "metadata": {
  "kernelspec": {
   "display_name": "Python 3",
   "language": "python",
   "name": "python3"
  },
  "language_info": {
   "codemirror_mode": {
    "name": "ipython",
    "version": 3
   },
   "file_extension": ".py",
   "mimetype": "text/x-python",
   "name": "python",
   "nbconvert_exporter": "python",
   "pygments_lexer": "ipython3",
   "version": "3.7.3"
  },
  "toc": {
   "base_numbering": 1,
   "nav_menu": {},
   "number_sections": true,
   "sideBar": true,
   "skip_h1_title": false,
   "title_cell": "Table of Contents",
   "title_sidebar": "Contents",
   "toc_cell": false,
   "toc_position": {},
   "toc_section_display": "block",
   "toc_window_display": false
  },
  "varInspector": {
   "cols": {
    "lenName": 16,
    "lenType": 16,
    "lenVar": 40
   },
   "kernels_config": {
    "python": {
     "delete_cmd_postfix": "",
     "delete_cmd_prefix": "del ",
     "library": "var_list.py",
     "varRefreshCmd": "print(var_dic_list())"
    },
    "r": {
     "delete_cmd_postfix": ") ",
     "delete_cmd_prefix": "rm(",
     "library": "var_list.r",
     "varRefreshCmd": "cat(var_dic_list()) "
    }
   },
   "types_to_exclude": [
    "module",
    "function",
    "builtin_function_or_method",
    "instance",
    "_Feature"
   ],
   "window_display": false
  }
 },
 "nbformat": 4,
 "nbformat_minor": 2
}
