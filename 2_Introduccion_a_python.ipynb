{
 "cells": [
  {
   "cell_type": "markdown",
   "metadata": {},
   "source": [
    "# Introducción a Python\n",
    "\n",
    "\n",
    "Es un lenguaje de programación orientado a objetos (poo) de sintaxis sencilla. El intérprete de Python puede extenderse fácilmente con nuevas funcionalidades y tipos de datos implementados en C o C++. Python también puede usarse como un lenguaje de extensiones para aplicaciones personalizables.\n",
    "\n",
    "Los dos motivos principales que han generado un creciente uso de Python en el campo del análisis de datos son:\n",
    "\n",
    "+ Las numerosas librerías creadas para esta finalidad como: \n",
    "    + Numpy y Pandas que implementan funciones para cálculos matemáticos y estadísticos\n",
    "    + Scikit-learn con algoritmos de aprendizaje automatizado (ML)\n",
    "    + Matplotlib que permite la visualización y representación gráfica de los datos.\n",
    "    \n",
    "    \n",
    "+ Su integración con aplicaciones como MongoDB (base de datos no relacional), Hadoop o Pentaho.\n",
    "\n",
    "Esto hace de Python un lenguaje de gran utilidad para los analistas de datos."
   ]
  },
  {
   "cell_type": "markdown",
   "metadata": {},
   "source": [
    "## Python \n",
    "Comenzando con la programación podemos observar que tenemos diversas maneras de utilizar Python, por ejemplo, como una calculadora, o para enviarte mensajes de aliento para seguir programando."
   ]
  },
  {
   "cell_type": "code",
   "execution_count": null,
   "metadata": {},
   "outputs": [],
   "source": [
    "# como una calculadora\n",
    "1+4"
   ]
  },
  {
   "cell_type": "code",
   "execution_count": null,
   "metadata": {},
   "outputs": [],
   "source": [
    "# todo tipo de operacion aritmeticas\n",
    "8/5"
   ]
  },
  {
   "cell_type": "code",
   "execution_count": null,
   "metadata": {},
   "outputs": [],
   "source": [
    "# potencias\n",
    "9 ** 2"
   ]
  },
  {
   "cell_type": "markdown",
   "metadata": {},
   "source": [
    "Python tiene algunas palabras reservadas o funciones ya hechas, por ejemplo:"
   ]
  },
  {
   "cell_type": "code",
   "execution_count": null,
   "metadata": {},
   "outputs": [],
   "source": [
    "input('escribe algo aqui:') # el valor de la variable sera lo que escriba el usario y lo guarda como string"
   ]
  },
  {
   "cell_type": "code",
   "execution_count": null,
   "metadata": {},
   "outputs": [],
   "source": [
    "float(9.999) # define el tipo de variable en este case float (decimales)"
   ]
  },
  {
   "cell_type": "code",
   "execution_count": null,
   "metadata": {},
   "outputs": [],
   "source": [
    "type(9.999)"
   ]
  },
  {
   "cell_type": "code",
   "execution_count": null,
   "metadata": {},
   "outputs": [],
   "source": [
    "print('hola mundo') # Imprime un mensaje"
   ]
  },
  {
   "cell_type": "markdown",
   "metadata": {},
   "source": [
    "Como observamos es sencillo trabajar con operaciones básicas al igual que con strings.\n",
    "\n",
    "*Ejercicio*\n",
    "\n",
    "Generen un mensaje de 3 líneas con salto de línea \\n (caracter de salto de linea)"
   ]
  },
  {
   "cell_type": "code",
   "execution_count": null,
   "metadata": {},
   "outputs": [],
   "source": []
  },
  {
   "cell_type": "code",
   "execution_count": null,
   "metadata": {},
   "outputs": [],
   "source": []
  },
  {
   "cell_type": "code",
   "execution_count": null,
   "metadata": {},
   "outputs": [],
   "source": []
  },
  {
   "cell_type": "code",
   "execution_count": null,
   "metadata": {
    "hide_input": true
   },
   "outputs": [],
   "source": [
    "print(\"\"\"hola\n",
    "mundo\n",
    "we\"\"\")"
   ]
  },
  {
   "cell_type": "code",
   "execution_count": null,
   "metadata": {},
   "outputs": [],
   "source": [
    "#Ejercicio escondido\n",
    "mensaje = 'hola serch '"
   ]
  },
  {
   "cell_type": "code",
   "execution_count": null,
   "metadata": {},
   "outputs": [],
   "source": [
    "mensaje"
   ]
  },
  {
   "cell_type": "code",
   "execution_count": null,
   "metadata": {},
   "outputs": [],
   "source": [
    "# multiplica el mensaje 6 veces.\n",
    "mensaje * 6"
   ]
  },
  {
   "cell_type": "code",
   "execution_count": null,
   "metadata": {},
   "outputs": [],
   "source": [
    "type(mensaje)"
   ]
  },
  {
   "cell_type": "code",
   "execution_count": null,
   "metadata": {},
   "outputs": [],
   "source": [
    "# mas tipos de datos\n",
    "otra = 56/28 #decimales (Fraciones)\n",
    "print(type(otra)) #tipo de dato\n",
    "print(otra) #valor de variable"
   ]
  },
  {
   "cell_type": "code",
   "execution_count": null,
   "metadata": {},
   "outputs": [],
   "source": [
    "mensaje"
   ]
  },
  {
   "cell_type": "code",
   "execution_count": null,
   "metadata": {},
   "outputs": [],
   "source": [
    "mensaje[5]"
   ]
  },
  {
   "cell_type": "raw",
   "metadata": {},
   "source": [
    "# Agregar celda en jupyter notebook\n",
    "# esc + A agregar fila arriba\n",
    "# esc + B agregar fila abajo"
   ]
  },
  {
   "cell_type": "code",
   "execution_count": null,
   "metadata": {},
   "outputs": [],
   "source": [
    "# accede al mensaje\n",
    "print(mensaje[5]) #elemento numero 6\n",
    "print(mensaje[5:]) #elementos del 6 en adelante\n",
    "print(mensaje[:5]) #elementos del 0 al 5\n",
    "print(mensaje[:-2]) #caracteres desde la ante-última (incluída) hasta el final"
   ]
  },
  {
   "cell_type": "raw",
   "metadata": {},
   "source": [
    "Asi es el acceso a los elementos de un objeto\n",
    "+---+---+---+---+---+---+\n",
    " | P | y | t | h | o | n |\n",
    " +---+---+---+---+---+---+\n",
    "   0   1   2   3   4   5  \n",
    "  -6  -5  -4  -3  -2  -1"
   ]
  },
  {
   "cell_type": "markdown",
   "metadata": {},
   "source": [
    "Como acceder a elementos de un string $x=0$"
   ]
  },
  {
   "cell_type": "code",
   "execution_count": null,
   "metadata": {},
   "outputs": [],
   "source": [
    "#longitud del mensaje\n",
    "len(mensaje)"
   ]
  },
  {
   "cell_type": "code",
   "execution_count": null,
   "metadata": {},
   "outputs": [],
   "source": [
    "# agregar\n",
    "bool(0)"
   ]
  },
  {
   "cell_type": "markdown",
   "metadata": {},
   "source": [
    "Como observamos hay diversos tipos de datos:\n",
    "+ Enteros\n",
    "+ Floats\n",
    "+ Strings\n",
    "+ Booleanos\n",
    "\n",
    "También tenemos diversos conjuntos:\n",
    "+ Listas\n",
    "+ Diccionario\n",
    "+ Tuplas (lista unmatable)"
   ]
  },
  {
   "cell_type": "markdown",
   "metadata": {},
   "source": [
    "## Listas\n",
    "Son conjuntos de datos que tienen __un orden__ y empiezan su índice con el número 0"
   ]
  },
  {
   "cell_type": "code",
   "execution_count": null,
   "metadata": {},
   "outputs": [],
   "source": [
    "# #La lista en Python son variables que almacenan arrays, \n",
    "# #internamente cada posicion puede ser un tipo de datos distinto.\n",
    "mi_primera_lista =  [1, 'ML', [3,'OTRA LISTA'] ]\n",
    "mi_primera_lista[2]"
   ]
  },
  {
   "cell_type": "code",
   "execution_count": null,
   "metadata": {},
   "outputs": [],
   "source": [
    "mi_primera_lista[2][1]"
   ]
  },
  {
   "cell_type": "code",
   "execution_count": null,
   "metadata": {},
   "outputs": [],
   "source": [
    "mi_primera_lista[2][1][2]"
   ]
  },
  {
   "cell_type": "code",
   "execution_count": null,
   "metadata": {},
   "outputs": [],
   "source": [
    "lista = [1,2,3]\n",
    "lista"
   ]
  },
  {
   "cell_type": "code",
   "execution_count": null,
   "metadata": {},
   "outputs": [],
   "source": [
    "#una matriz\n",
    "[[1,2,3],\n",
    " [4,5,6]]"
   ]
  },
  {
   "cell_type": "code",
   "execution_count": null,
   "metadata": {},
   "outputs": [],
   "source": [
    "# lista de listas\n",
    "lista = [25,35,45]\n",
    "lista1 = [0,15,lista]\n",
    "lista1"
   ]
  },
  {
   "cell_type": "code",
   "execution_count": null,
   "metadata": {},
   "outputs": [],
   "source": [
    "#accediendo a la lista\n",
    "lista1[2][1]"
   ]
  },
  {
   "cell_type": "code",
   "execution_count": null,
   "metadata": {},
   "outputs": [],
   "source": [
    "# método de listas contar valor\n",
    "    \n",
    "lista1.count(0) # método count es para contar el elemento adentro de count"
   ]
  },
  {
   "cell_type": "code",
   "execution_count": null,
   "metadata": {},
   "outputs": [],
   "source": [
    "len(lista_nueva)"
   ]
  },
  {
   "cell_type": "code",
   "execution_count": null,
   "metadata": {},
   "outputs": [],
   "source": [
    "lista_nueva = [0,0,1,1,2,2,3,3,4,4,4,4,4,4,5,6,7]"
   ]
  },
  {
   "cell_type": "code",
   "execution_count": null,
   "metadata": {},
   "outputs": [],
   "source": [
    "# remover valor siguiendo el índice\n",
    "lista_nueva.pop(-1)"
   ]
  },
  {
   "cell_type": "code",
   "execution_count": null,
   "metadata": {},
   "outputs": [],
   "source": [
    "lista_nueva"
   ]
  },
  {
   "cell_type": "code",
   "execution_count": null,
   "metadata": {},
   "outputs": [],
   "source": [
    "lista_nueva.remove(1) #remover primer valor con el valor indicado"
   ]
  },
  {
   "cell_type": "code",
   "execution_count": null,
   "metadata": {},
   "outputs": [],
   "source": [
    "lista_nueva"
   ]
  },
  {
   "cell_type": "code",
   "execution_count": null,
   "metadata": {},
   "outputs": [],
   "source": [
    "lista_nueva.insert(0,1000) #inserta elemento a la lista en la posición penultima con el valor 10"
   ]
  },
  {
   "cell_type": "code",
   "execution_count": null,
   "metadata": {},
   "outputs": [],
   "source": [
    "lista_nueva #imprimo nuevo valor de la lista"
   ]
  },
  {
   "cell_type": "code",
   "execution_count": null,
   "metadata": {},
   "outputs": [],
   "source": [
    "lista_nueva.append(10) #apilo el valor en el ultimo lugar"
   ]
  },
  {
   "cell_type": "code",
   "execution_count": null,
   "metadata": {},
   "outputs": [],
   "source": [
    "lista_nueva.extend([5,7,3]) # agrego valores de lista a lista ya hecha"
   ]
  },
  {
   "cell_type": "code",
   "execution_count": null,
   "metadata": {},
   "outputs": [],
   "source": [
    "lista_nueva"
   ]
  },
  {
   "cell_type": "code",
   "execution_count": null,
   "metadata": {},
   "outputs": [],
   "source": [
    "lista_nueva.append([5,7,3])"
   ]
  },
  {
   "cell_type": "code",
   "execution_count": null,
   "metadata": {},
   "outputs": [],
   "source": [
    "lista_nueva"
   ]
  },
  {
   "cell_type": "markdown",
   "metadata": {
    "hide_input": true
   },
   "source": [
    "*Ejercicio*\n",
    "+ _Crear lista con tres elementos_\n",
    "+ agregar elemento\n",
    "+ quitan el primer elemento"
   ]
  },
  {
   "cell_type": "code",
   "execution_count": null,
   "metadata": {},
   "outputs": [],
   "source": []
  },
  {
   "cell_type": "code",
   "execution_count": null,
   "metadata": {},
   "outputs": [],
   "source": []
  },
  {
   "cell_type": "code",
   "execution_count": null,
   "metadata": {},
   "outputs": [],
   "source": []
  },
  {
   "cell_type": "markdown",
   "metadata": {},
   "source": [
    "----"
   ]
  },
  {
   "cell_type": "code",
   "execution_count": null,
   "metadata": {
    "hide_input": true
   },
   "outputs": [],
   "source": [
    "ejercicio = [1, 2, 'algo_chido'] #creo lista\n",
    "ejercicio.append('algo+chido') #ingreso elemento al final \n",
    "del ejercicio[0] #borro primer elemento\n",
    "ejercicio"
   ]
  },
  {
   "cell_type": "markdown",
   "metadata": {},
   "source": [
    "## Tuplas\n",
    "Lista ordenada __inmutable__"
   ]
  },
  {
   "cell_type": "code",
   "execution_count": null,
   "metadata": {},
   "outputs": [],
   "source": [
    "mi_primer_tupla = (1,2,3)\n",
    "# a qué se refiere con inmutable"
   ]
  },
  {
   "cell_type": "code",
   "execution_count": null,
   "metadata": {},
   "outputs": [],
   "source": [
    "mi_primera_lista"
   ]
  },
  {
   "cell_type": "code",
   "execution_count": null,
   "metadata": {},
   "outputs": [],
   "source": [
    "mi_primera_lista[0] = 1000"
   ]
  },
  {
   "cell_type": "code",
   "execution_count": null,
   "metadata": {},
   "outputs": [],
   "source": [
    "mi_primera_lista"
   ]
  },
  {
   "cell_type": "code",
   "execution_count": null,
   "metadata": {},
   "outputs": [],
   "source": [
    "mi_primer_tupla"
   ]
  },
  {
   "cell_type": "code",
   "execution_count": null,
   "metadata": {},
   "outputs": [],
   "source": [
    "mi_primer_tupla[1]"
   ]
  },
  {
   "cell_type": "code",
   "execution_count": null,
   "metadata": {},
   "outputs": [],
   "source": [
    "# al querer acceder al elemento 1 y quererle asignar un nuevo valor no se puede\n",
    "mi_primer_tupla[1] = 30"
   ]
  },
  {
   "cell_type": "code",
   "execution_count": null,
   "metadata": {},
   "outputs": [],
   "source": [
    "tuple(mi_primera_lista)"
   ]
  },
  {
   "cell_type": "code",
   "execution_count": null,
   "metadata": {},
   "outputs": [],
   "source": [
    "list(mi_primer_tupla)"
   ]
  },
  {
   "cell_type": "code",
   "execution_count": null,
   "metadata": {},
   "outputs": [],
   "source": [
    "# para esto mejor usamos una lista\n",
    "nueva_lista = list(mi_primer_tupla)\n",
    "print(nueva_lista)\n",
    "\n",
    "nueva_lista[1] = 20\n",
    "nueva_lista"
   ]
  },
  {
   "cell_type": "markdown",
   "metadata": {},
   "source": [
    "## Diccionarios\n",
    "A diferencia de las listas, los diccionarios no tienen orden, sin embargo, utilizan llaves y valores a especie de catálago para guardar los datos. No pueden existir dos llaves iguales."
   ]
  },
  {
   "cell_type": "code",
   "execution_count": null,
   "metadata": {},
   "outputs": [],
   "source": [
    "mi_primer_dic = {'llave1': 1, 'llave2': 2,\n",
    "                 'llave3': 3} # se representa por key: values\n",
    "\n",
    "print(mi_primer_dic.get('llave2')) #manera de obtener el valor de una llave\n",
    "\n",
    "mi_primer_dic.items()  #vista de elementos de la lista"
   ]
  },
  {
   "cell_type": "code",
   "execution_count": null,
   "metadata": {},
   "outputs": [],
   "source": [
    "mi_primer_dic.keys()"
   ]
  },
  {
   "cell_type": "code",
   "execution_count": null,
   "metadata": {},
   "outputs": [],
   "source": [
    "mi_primer_dic.values()"
   ]
  },
  {
   "cell_type": "code",
   "execution_count": null,
   "metadata": {},
   "outputs": [],
   "source": [
    "# otra manera de generar diccionarios\n",
    "a = dict(a=1, b=2, c=78786)\n",
    "print(a)"
   ]
  },
  {
   "cell_type": "markdown",
   "metadata": {},
   "source": [
    "# Estructuras de Control\n",
    "\n",
    "Permiten modificar el flujo de ejecución de las instrucciones en un programa. \n",
    "\n",
    "## For (iterador)\n",
    "\n",
    "Se utiliza para repetir un bloque de código varias veces. La delcaración de un For itera sobre los valores de una secuencia en orden, ejecutando el bloque de código. "
   ]
  },
  {
   "cell_type": "raw",
   "metadata": {},
   "source": [
    "for variable in elemento iterable (lista, cadena, range, etc.):\n",
    "    cuerpo del bucle (operaciones)"
   ]
  },
  {
   "cell_type": "code",
   "execution_count": null,
   "metadata": {},
   "outputs": [],
   "source": [
    "suma = 0\n",
    "\n",
    "for bla in range(10):\n",
    "    print(bla, suma)\n",
    "    suma = suma + bla\n",
    "    print(bla, suma)\n",
    "    print('///'*20)\n",
    "\n",
    "print('suma total de los primero n numeros: \\n',suma)\n",
    "    \n",
    "#que es lo mismo a (n*(n+1))/2\n",
    "(9*10)/2"
   ]
  },
  {
   "cell_type": "code",
   "execution_count": null,
   "metadata": {},
   "outputs": [],
   "source": [
    "# imprimir numeros primeros 10 numeros desde el 0.\n",
    "# a = 0\n",
    "for loquesea in range(10):\n",
    "    print(loquesea)\n",
    "    \n",
    "# a"
   ]
  },
  {
   "cell_type": "markdown",
   "metadata": {},
   "source": [
    "Ejercicio\n",
    "+ Crear lista vacia\n",
    "+ rellenar lista con lista ya hecha que sólo contenga los primeros 10 elementos."
   ]
  },
  {
   "cell_type": "code",
   "execution_count": null,
   "metadata": {},
   "outputs": [],
   "source": []
  },
  {
   "cell_type": "code",
   "execution_count": null,
   "metadata": {},
   "outputs": [],
   "source": []
  },
  {
   "cell_type": "code",
   "execution_count": null,
   "metadata": {},
   "outputs": [],
   "source": []
  },
  {
   "cell_type": "code",
   "execution_count": null,
   "metadata": {},
   "outputs": [],
   "source": []
  },
  {
   "cell_type": "code",
   "execution_count": null,
   "metadata": {},
   "outputs": [],
   "source": [
    "# manera 1\n",
    "lista_vacia = []\n",
    "for i in range(10):\n",
    "    lista_vacia.append(lista_nueva[i])\n",
    "    print(i, lista_nueva[i], lista_vacia)\n",
    "    \n",
    "lista_vacia"
   ]
  },
  {
   "cell_type": "code",
   "execution_count": null,
   "metadata": {},
   "outputs": [],
   "source": [
    "# manera 2\n",
    "lista_vacia = []\n",
    "for i, val in enumerate(lista_nueva):\n",
    "     if i <= 10:\n",
    "        lista_vacia.append(val)\n",
    "        print(i,val)\n",
    "    \n",
    "# lista_vacia"
   ]
  },
  {
   "cell_type": "code",
   "execution_count": null,
   "metadata": {},
   "outputs": [],
   "source": [
    "lista_vacia"
   ]
  },
  {
   "cell_type": "markdown",
   "metadata": {},
   "source": [
    "Hay diversas herramientas para control de flujo:\n",
    "+ [if](https://docs.python.org/3/tutorial/controlflow.html) (si cumple, ejecute)\n",
    "+ [for](https://docs.python.org/3/tutorial/controlflow.html) (itere)\n",
    "+ [while](https://wiki.python.org/moin/WhileLoop) (si se cumple, itere)\n",
    "+ [try](http://docs.python.org.ar/tutorial/3/errors.html) (si funciona, itere) "
   ]
  },
  {
   "cell_type": "code",
   "execution_count": null,
   "metadata": {},
   "outputs": [],
   "source": [
    "x = int(\n",
    "    input(\"Ingresa un entero, por favor: \")\n",
    ")\n",
    "\n",
    "if x < 0:\n",
    "    print('Negativo ')\n",
    "elif x == 0:\n",
    "      print('Cero')\n",
    "elif x == 1:\n",
    "     print('Simple')\n",
    "else:\n",
    "     print('Más')"
   ]
  },
  {
   "cell_type": "code",
   "execution_count": null,
   "metadata": {},
   "outputs": [],
   "source": [
    "for n in range(2, 10): #para n en un vector de 2 a 10 [2,3,4,5,6,7,8,9]\n",
    "    for x in range(2, n): # para x en un vector de 2 a n [2,...,n-2,n-1]\n",
    "        if n % x == 0: #si el módulo de n en x es 0, entonces\n",
    "            print(n, 'es igual a', x, '*', n/x) #imprime esto\n",
    "            break #deja de iterar\n",
    "        else: #si no se cumple lo de arriba\n",
    "            # sigue el bucle sin encontrar un factor\n",
    "            print(n, 'es un numero primo') #imprime el primo"
   ]
  },
  {
   "cell_type": "markdown",
   "metadata": {},
   "source": [
    "Procedemos a generar una pequeña aplicación que te calcule la propina de manera sencilla."
   ]
  },
  {
   "cell_type": "code",
   "execution_count": null,
   "metadata": {},
   "outputs": [],
   "source": [
    "# Con esas sencillas operaciones podemos generar un calculador de propina\n",
    "cuenta =  float(input('Cuanto es de cuenta?:'))  #pregunta al usuario cuanto es de cuenta\n",
    "servicio = input('Como estuvo el servicio? \\nElige un numero 2 = bueno, 1 = regular, 0 = malo \\n') # espera un numero para elegir la opcion\n",
    "perc_prop = 0 #se define el porcentaje de propina\n",
    "#arbol de decisión, estructura if,elif,else\n",
    "if int(servicio) == 0:\n",
    "    perc_prop = 0.1\n",
    "elif int(servicio) == 1:\n",
    "    perc_prop = 0.15\n",
    "elif int(servicio) == 2:\n",
    "    perc_prop = 0.2\n",
    "else:\n",
    "    print('revisa que la opcion sea la correcta')\n",
    "    \n",
    "#guardas transformación de variable en otra nueva\n",
    "propina =  round(cuenta * perc_prop,3)\n",
    "print('Esto es de propina',propina) #mensaje del cálculo de propina\n",
    "cuenta =  cuenta + propina\n",
    "print('Esto pagaras:',cuenta)"
   ]
  },
  {
   "cell_type": "markdown",
   "metadata": {},
   "source": [
    "## Funciones\n",
    "\n",
    "La palabra reservada *def* se usa para definir funciones. Debe seguirle el nombre de la función en minúsculas y la lista de parámetros formales entre paréntesis. Las sentencias que forman el cuerpo de la función empiezan en la línea siguiente, y deben estar con sangría.\n",
    "\n",
    "La primer sentencia del cuerpo de la función puede ser opcionalmente una cadena de texto literal; esta es la cadena de texto de documentación de la función, o *docstring*. (Puedes encontrar más acerca de *docstrings* en la sección Cadenas de texto de documentación.)\n",
    "\n",
    "A lo mejor desarrollamos algo que vamos a estar usando constantemente, entonces en lugar de rescribir el codigo, podemos generar una función que replique el código y llamarla una sola vez.\n",
    "\n",
    "¿Recuerdan la calculadora de propina? Vamos a generar la función de la siguiente manera:"
   ]
  },
  {
   "cell_type": "code",
   "execution_count": null,
   "metadata": {},
   "outputs": [],
   "source": [
    "def calcula_propina(extra = 0): #argumentos\n",
    "    \"\"\"Función que calcula la propina. Pregunta cuanto fue el valor de la cuenta y que tal\n",
    "    estuvo el consumo. El parámetro extra: int indica el dinero extra que le quisieras dar\n",
    "    al mesero que se suma en la cuenta final.\n",
    "    \"\"\"\n",
    "    cuenta =  float(input('¿Cuánto es de cuenta?:'))  \n",
    "    servicio = input('¿Cómo estuvo el servicio? \\nElige un número 2 = bueno, 1 = regular, 0 = malo \\n')\n",
    "    perc_prop = 'nada'\n",
    "    if int(servicio) == 0:\n",
    "        perc_prop = 0.1\n",
    "    elif int(servicio) == 1:\n",
    "        perc_prop = 0.15\n",
    "    elif int(servicio) == 2:\n",
    "        perc_prop = 0.2\n",
    "    else:\n",
    "        print('Revisa que la opción sea la correcta')\n",
    "\n",
    "    propina =  round(cuenta * perc_prop,3)\n",
    "    print('Esto es de propina',propina) \n",
    "    cuenta =  cuenta + propina + extra\n",
    "    print('Esto pagaras:',cuenta)"
   ]
  },
  {
   "cell_type": "code",
   "execution_count": null,
   "metadata": {},
   "outputs": [],
   "source": []
  },
  {
   "cell_type": "markdown",
   "metadata": {},
   "source": [
    "__Orientado a objetos__"
   ]
  },
  {
   "cell_type": "code",
   "execution_count": null,
   "metadata": {},
   "outputs": [],
   "source": [
    "class Restaurante(object):\n",
    "    \n",
    "    def calcula_propina(extra=0):\n",
    "        cuenta =  float(input('¿Cuánto es de cuenta?:'))  \n",
    "        servicio = input('¿Cómo estuvo el servicio? \\nElige un número 2 = bueno, 1 = regular, 0 = malo \\n')\n",
    "        perc_prop = 'nada'\n",
    "        if int(servicio) == 0:\n",
    "            perc_prop = 0.1\n",
    "        elif int(servicio) == 1:\n",
    "            perc_prop = 0.15\n",
    "        elif int(servicio) == 2:\n",
    "            perc_prop = 0.2\n",
    "        else:\n",
    "            print('Revisa que la opción sea la correcta')\n",
    "\n",
    "        propina =  round(cuenta * perc_prop,3)\n",
    "        print('Esto es de propina',propina) \n",
    "        cuenta =  cuenta + propina + extra\n",
    "        return print('Esto pagaras:',cuenta)\n",
    "        "
   ]
  },
  {
   "cell_type": "code",
   "execution_count": null,
   "metadata": {},
   "outputs": [],
   "source": [
    "Restaurante.calcula_propina()"
   ]
  },
  {
   "cell_type": "markdown",
   "metadata": {},
   "source": [
    "## Expresiones Lambda\n",
    "\n",
    "Pequeñas funciones anónimas que pueden ser creadas con la palabra reservada *lambda*. \n",
    "\n",
    "Pueden ser usadas en cualquier lugar donde sea requerido un objeto de tipo función.\n",
    "\n",
    "Están sintácticamente restringidas a una sola expresión.\n",
    "\n",
    "Al igual que las funciones anidadas, las funciones lambda pueden hacer referencia a variables desde el ámbito que la contiene:"
   ]
  },
  {
   "cell_type": "code",
   "execution_count": null,
   "metadata": {},
   "outputs": [],
   "source": [
    "a = lambda x: x**2\n",
    "a(3)"
   ]
  },
  {
   "cell_type": "code",
   "execution_count": null,
   "metadata": {},
   "outputs": [],
   "source": [
    "def hacer_incrementador(n):\n",
    "    return lambda x: x + n if x >10 else x"
   ]
  },
  {
   "cell_type": "code",
   "execution_count": null,
   "metadata": {},
   "outputs": [],
   "source": [
    "f = hacer_incrementador(100)"
   ]
  },
  {
   "cell_type": "code",
   "execution_count": null,
   "metadata": {},
   "outputs": [],
   "source": [
    "f(1)"
   ]
  },
  {
   "cell_type": "code",
   "execution_count": null,
   "metadata": {},
   "outputs": [],
   "source": [
    "f(10)"
   ]
  },
  {
   "cell_type": "markdown",
   "metadata": {},
   "source": [
    "# map\n",
    "Devuelve las iteraciones generadas como un generador *yield*, al aplicar la función a un cierto conjunto de valores.\n",
    "\n",
    "__map(funcion, iterable)__\n",
    "\n",
    "*Recuerden que un iterable puede ser un conjunto de valores*\n",
    "\n",
    "Es una manera mas eficiente de aplicar una función u operaciones sobre un conjunto de datos que un for.\n",
    "\n",
    "Más información [aqui](https://www.geeksforgeeks.org/python-map-function/)."
   ]
  },
  {
   "cell_type": "code",
   "execution_count": null,
   "metadata": {},
   "outputs": [],
   "source": [
    "map(a,range(10))"
   ]
  },
  {
   "cell_type": "code",
   "execution_count": null,
   "metadata": {},
   "outputs": [],
   "source": [
    "list(map(a,range(10)))"
   ]
  },
  {
   "cell_type": "markdown",
   "metadata": {},
   "source": [
    "# Comprension de listas\n",
    "\n",
    "Se utilizan para generar una lista que se construye a partir de iteraciones.\n",
    "\n",
    "Mayor info [aqui](https://docs.python.org/3/tutorial/datastructures.html)."
   ]
  },
  {
   "cell_type": "code",
   "execution_count": null,
   "metadata": {},
   "outputs": [],
   "source": [
    "datos = range(1000000)"
   ]
  },
  {
   "cell_type": "code",
   "execution_count": null,
   "metadata": {},
   "outputs": [],
   "source": [
    "%%time\n",
    "\n",
    "datos_filtrados = []\n",
    "for val in datos:\n",
    "    if val % 2 == 0:\n",
    "        datos_filtrados.append(val)\n",
    "        \n",
    "# datos_filtrados"
   ]
  },
  {
   "cell_type": "code",
   "execution_count": null,
   "metadata": {},
   "outputs": [],
   "source": [
    "%%time\n",
    "\n",
    "datos_filtrados = [x for x in datos if x % 2 ==0] "
   ]
  },
  {
   "cell_type": "code",
   "execution_count": null,
   "metadata": {},
   "outputs": [],
   "source": []
  }
 ],
 "metadata": {
  "kernelspec": {
   "display_name": "Python 3",
   "language": "python",
   "name": "python3"
  },
  "language_info": {
   "codemirror_mode": {
    "name": "ipython",
    "version": 3
   },
   "file_extension": ".py",
   "mimetype": "text/x-python",
   "name": "python",
   "nbconvert_exporter": "python",
   "pygments_lexer": "ipython3",
   "version": "3.7.3"
  },
  "toc": {
   "base_numbering": 1,
   "nav_menu": {},
   "number_sections": true,
   "sideBar": true,
   "skip_h1_title": false,
   "title_cell": "Table of Contents",
   "title_sidebar": "Contents",
   "toc_cell": false,
   "toc_position": {},
   "toc_section_display": true,
   "toc_window_display": false
  },
  "varInspector": {
   "cols": {
    "lenName": 16,
    "lenType": 16,
    "lenVar": 40
   },
   "kernels_config": {
    "python": {
     "delete_cmd_postfix": "",
     "delete_cmd_prefix": "del ",
     "library": "var_list.py",
     "varRefreshCmd": "print(var_dic_list())"
    },
    "r": {
     "delete_cmd_postfix": ") ",
     "delete_cmd_prefix": "rm(",
     "library": "var_list.r",
     "varRefreshCmd": "cat(var_dic_list()) "
    }
   },
   "types_to_exclude": [
    "module",
    "function",
    "builtin_function_or_method",
    "instance",
    "_Feature"
   ],
   "window_display": false
  }
 },
 "nbformat": 4,
 "nbformat_minor": 2
}
