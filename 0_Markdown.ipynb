{
 "cells": [
  {
   "cell_type": "raw",
   "metadata": {},
   "source": [
    "Si quieren acceder al codigo recuerden: Doble click en la celda de interés."
   ]
  },
  {
   "cell_type": "markdown",
   "metadata": {},
   "source": [
    "# Tutorial Jupyter\n",
    "\n",
    "## Titulo 1\n",
    "\n",
    "### Titulo 2\n",
    "\n",
    "#### Titulo 3\n",
    "\n",
    "Para generar celdas hacia abajo presionamos Esc seguido de la tecla b.\n",
    "\n",
    "Para generar celdas hacia arriba presionamos Esc seguido de la tecla a.\n",
    "\n",
    "Para borrar celdas Esc seguido de la tecla d dos veces."
   ]
  },
  {
   "cell_type": "markdown",
   "metadata": {},
   "source": [
    "Mi codigo suma 3 mas 4."
   ]
  },
  {
   "cell_type": "code",
   "execution_count": 2,
   "metadata": {},
   "outputs": [
    {
     "data": {
      "text/plain": [
       "7"
      ]
     },
     "execution_count": 2,
     "metadata": {},
     "output_type": "execute_result"
    }
   ],
   "source": [
    "3+4"
   ]
  },
  {
   "cell_type": "markdown",
   "metadata": {},
   "source": [
    "Quiero poner enfasis en __esto__\n",
    "\n",
    "Me gusta tu boom boom *girl*"
   ]
  },
  {
   "cell_type": "markdown",
   "metadata": {},
   "source": [
    "## Listas\n",
    "\n",
    "* Sexo: hombre o mujer\n",
    "* Compañía: Telcel o Movistar\n",
    "* Equipo: equipo de fútbol al que apoya"
   ]
  },
  {
   "cell_type": "markdown",
   "metadata": {},
   "source": [
    "## Ecuaciones\n",
    "\n",
    "$ y = mx + b $\n",
    "\n",
    "$ x_{av} = \\frac{1}{N} \\Sigma x_{i} $ "
   ]
  },
  {
   "cell_type": "markdown",
   "metadata": {},
   "source": [
    "## Imágenes \n",
    "\n",
    "<img src=\"Imagenes/python.JPG\">"
   ]
  },
  {
   "cell_type": "markdown",
   "metadata": {},
   "source": [
    "__gato__"
   ]
  },
  {
   "cell_type": "markdown",
   "metadata": {},
   "source": [
    "## Hipervínculos\n",
    "\n",
    "Si quieres hacer nuevos amigos presiona [aquí](https://www.facebook.com)."
   ]
  },
  {
   "cell_type": "code",
   "execution_count": null,
   "metadata": {},
   "outputs": [],
   "source": []
  }
 ],
 "metadata": {
  "kernelspec": {
   "display_name": "Python 3",
   "language": "python",
   "name": "python3"
  },
  "language_info": {
   "codemirror_mode": {
    "name": "ipython",
    "version": 3
   },
   "file_extension": ".py",
   "mimetype": "text/x-python",
   "name": "python",
   "nbconvert_exporter": "python",
   "pygments_lexer": "ipython3",
   "version": "3.7.3"
  }
 },
 "nbformat": 4,
 "nbformat_minor": 2
}
